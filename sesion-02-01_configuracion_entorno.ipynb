{
 "cells": [
  {
   "cell_type": "markdown",
   "metadata": {},
   "source": [
    "# Configuración del Entorno para Proyectos de Machine Learning\n",
    "\n",
    "## Sesión 02 - Módulo 01 - Laboratorio 1\n",
    "### Bootcamp: Machine Learning Aplicado a la Industria Petrolera\n",
    "\n",
    "## Objetivos de Aprendizaje\n",
    "- Configurar un entorno de desarrollo básico para proyectos de ML\n",
    "- Aprender las bases de control de versiones con Git\n",
    "- Estructurar un proyecto de ML siguiendo buenas prácticas"
   ]
  },
  {
   "cell_type": "markdown",
   "metadata": {},
   "source": [
    "## Introducción\n",
    "\n",
    "Un proyecto de Machine Learning bien organizado facilita la colaboración, mantenimiento y reproducibilidad de resultados. En este laboratorio aprenderemos las bases para configurar un entorno de trabajo profesional para proyectos de ML en la industria petrolera."
   ]
  },
  {
   "cell_type": "markdown",
   "metadata": {},
   "source": [
    "# Parte 1: Verificación del Entorno Python\n",
    "\n",
    "Comencemos verificando que tenemos las bibliotecas necesarias instaladas."
   ]
  },
  {
   "cell_type": "code",
   "execution_count": 1,
   "metadata": {},
   "outputs": [
    {
     "name": "stdout",
     "output_type": "stream",
     "text": [
      "Python: 3.12.1\n",
      "NumPy: 2.2.4\n",
      "Pandas: 2.2.3\n",
      "Matplotlib: 3.10.1\n",
      "Scikit-learn: 1.6.1\n"
     ]
    }
   ],
   "source": [
    "# Verificar versiones de bibliotecas importantes\n",
    "import sys\n",
    "import numpy as np\n",
    "import pandas as pd\n",
    "import matplotlib.pyplot as plt\n",
    "import sklearn\n",
    "\n",
    "# Mostrar versiones\n",
    "print(f\"Python: {sys.version.split()[0]}\")\n",
    "print(f\"NumPy: {np.__version__}\")\n",
    "print(f\"Pandas: {pd.__version__}\")\n",
    "print(f\"Matplotlib: {plt.matplotlib.__version__}\")\n",
    "print(f\"Scikit-learn: {sklearn.__version__}\")"
   ]
  },
  {
   "cell_type": "markdown",
   "metadata": {},
   "source": [
    "# Parte 2: Control de Versiones con Git\n",
    "\n",
    "Git es una herramienta esencial para el desarrollo de proyectos de ML. Permite:\n",
    "- Mantener un historial de cambios\n",
    "- Colaborar eficientemente en equipo\n",
    "- Experimentar con diferentes ideas en ramas separadas\n",
    "- Revertir a versiones anteriores si es necesario"
   ]
  },
  {
   "cell_type": "markdown",
   "metadata": {},
   "source": [
    "## 2.1 Configuración Inicial de Git\n",
    "\n",
    "Antes de usar Git, necesitamos configurar nuestro nombre y correo."
   ]
  },
  {
   "cell_type": "code",
   "execution_count": 2,
   "metadata": {},
   "outputs": [
    {
     "name": "stdout",
     "output_type": "stream",
     "text": [
      "git version 2.49.0\n"
     ]
    }
   ],
   "source": [
    "# Comandos que ejecutarías en la terminal\n",
    "!git --version  # Verificar que Git está instalado"
   ]
  },
  {
   "cell_type": "markdown",
   "metadata": {},
   "source": [
    "### Ejercicio 1: Configura tu identidad en Git\n",
    "\n",
    "Ejecuta los siguientes comandos en una celda (reemplaza con tu información):"
   ]
  },
  {
   "cell_type": "code",
   "execution_count": 3,
   "metadata": {},
   "outputs": [],
   "source": [
    "# Configura tu nombre y correo\n",
    "# !git config --global user.name \"Tu Nombre\"\n",
    "# !git config --global user.email \"tu.email@ejemplo.com\"\n",
    "\n",
    "# Verifica tu configuración\n",
    "!git config --global user.name\n",
    "!git config --global user.email"
   ]
  },
  {
   "cell_type": "markdown",
   "metadata": {},
   "source": [
    "## 2.2 Inicializando un Repositorio\n",
    "\n",
    "Vamos a crear una carpeta para nuestro proyecto y inicializar un repositorio Git."
   ]
  },
  {
   "cell_type": "code",
   "execution_count": 4,
   "metadata": {},
   "outputs": [
    {
     "name": "stdout",
     "output_type": "stream",
     "text": [
      "Initialized empty Git repository in /workspaces/MLa/sesion-02/mi_proyecto_ml/.git/\n",
      "total 12\n",
      "drwxrwxrwx+ 3 codespace codespace 4096 May  2 03:20 .\n",
      "drwxrwxrwx+ 3 codespace codespace 4096 May  2 03:20 ..\n",
      "drwxrwxrwx+ 6 codespace codespace 4096 May  2 03:20 .git\n"
     ]
    }
   ],
   "source": [
    "# Crear directorio para nuestro proyecto\n",
    "!mkdir -p /workspaces/MLa/sesion-02/mi_proyecto_ml\n",
    "!cd /workspaces/MLa/sesion-02/mi_proyecto_ml && git init\n",
    "!cd /workspaces/MLa/sesion-02/mi_proyecto_ml && ls -la"
   ]
  },
  {
   "cell_type": "markdown",
   "metadata": {},
   "source": [
    "### Ejercicio 2: Crea un archivo README y haz tu primer commit\n",
    "\n",
    "Ahora crearemos un archivo README.md y lo añadiremos al repositorio."
   ]
  },
  {
   "cell_type": "code",
   "execution_count": 5,
   "metadata": {},
   "outputs": [
    {
     "name": "stdout",
     "output_type": "stream",
     "text": [
      "[main (root-commit) 36d0a4f] Primer commit: Añadir README\n",
      " 1 file changed, 10 insertions(+)\n",
      " create mode 100644 README.md\n",
      "\u001b[33m36d0a4f\u001b[m\u001b[33m (\u001b[m\u001b[1;36mHEAD\u001b[m\u001b[33m -> \u001b[m\u001b[1;32mmain\u001b[m\u001b[33m)\u001b[m Primer commit: Añadir README\n"
     ]
    }
   ],
   "source": [
    "# Crear archivo README.md\n",
    "readme_content = \"\"\"\n",
    "# Proyecto de Análisis de Datos Petroleros\n",
    "\n",
    "Este proyecto tiene como objetivo analizar datos de producción petrolera \n",
    "usando técnicas de Machine Learning.\n",
    "\n",
    "## Objetivos\n",
    "- Analizar tendencias de producción\n",
    "- Predecir problemas potenciales\n",
    "- Optimizar operaciones\n",
    "\"\"\"\n",
    "\n",
    "with open(\"/workspaces/MLa/sesion-02/mi_proyecto_ml/README.md\", \"w\") as f:\n",
    "    f.write(readme_content)\n",
    "\n",
    "# Añadir y hacer commit del archivo\n",
    "!cd /workspaces/MLa/sesion-02/mi_proyecto_ml && git add README.md\n",
    "!cd /workspaces/MLa/sesion-02/mi_proyecto_ml && git commit -m \"Primer commit: Añadir README\"\n",
    "!cd /workspaces/MLa/sesion-02/mi_proyecto_ml && git log --oneline"
   ]
  },
  {
   "cell_type": "markdown",
   "metadata": {},
   "source": [
    "## 2.3 Trabajando con Ramas\n",
    "\n",
    "Las ramas te permiten trabajar en diferentes características o experimentos sin afectar la rama principal."
   ]
  },
  {
   "cell_type": "code",
   "execution_count": 6,
   "metadata": {},
   "outputs": [
    {
     "name": "stdout",
     "output_type": "stream",
     "text": [
      "Switched to branch 'feature/estructura-proyecto'\n",
      "* \u001b[32mfeature/estructura-proyecto\u001b[m\n",
      "  main\u001b[m\n"
     ]
    }
   ],
   "source": [
    "# Crear una nueva rama\n",
    "!cd /workspaces/MLa/sesion-02/mi_proyecto_ml && git branch feature/estructura-proyecto\n",
    "!cd /workspaces/MLa/sesion-02/mi_proyecto_ml && git checkout feature/estructura-proyecto\n",
    "!cd /workspaces/MLa/sesion-02/mi_proyecto_ml && git branch"
   ]
  },
  {
   "cell_type": "markdown",
   "metadata": {},
   "source": [
    "### Ejercicio 3: Crea la estructura de directorios en la nueva rama\n",
    "\n",
    "Vamos a crear una estructura básica de directorios para nuestro proyecto."
   ]
  },
  {
   "cell_type": "code",
   "execution_count": 7,
   "metadata": {},
   "outputs": [
    {
     "name": "stdout",
     "output_type": "stream",
     "text": [
      ".\n",
      "./.git\n",
      "./.git/hooks\n",
      "./.git/info\n",
      "./.git/logs\n",
      "./.git/logs/refs\n",
      "./.git/logs/refs/heads\n",
      "./.git/logs/refs/heads/feature\n",
      "./.git/objects\n",
      "./.git/objects/33\n",
      "./.git/objects/36\n",
      "./.git/objects/4e\n",
      "./.git/objects/info\n",
      "./.git/objects/pack\n",
      "./.git/refs\n",
      "./.git/refs/heads\n",
      "./.git/refs/heads/feature\n",
      "./.git/refs/tags\n",
      "./data\n",
      "./data/processed\n",
      "./data/raw\n",
      "./notebooks\n",
      "./src\n",
      "./src/data\n",
      "./src/models\n",
      "./src/visualization\n"
     ]
    }
   ],
   "source": [
    "# Crear estructura de directorios\n",
    "!cd /workspaces/MLa/sesion-02/mi_proyecto_ml && mkdir -p data/{raw,processed}\n",
    "!cd /workspaces/MLa/sesion-02/mi_proyecto_ml && mkdir -p notebooks\n",
    "!cd /workspaces/MLa/sesion-02/mi_proyecto_ml && mkdir -p src/{data,models,visualization}\n",
    "\n",
    "# Verificar estructura\n",
    "!cd /workspaces/MLa/sesion-02/mi_proyecto_ml && find . -type d | sort"
   ]
  },
  {
   "cell_type": "code",
   "execution_count": 8,
   "metadata": {},
   "outputs": [
    {
     "name": "stdout",
     "output_type": "stream",
     "text": [
      "[feature/estructura-proyecto 2a7a33d] Añadir estructura básica de directorios\n",
      " 6 files changed, 0 insertions(+), 0 deletions(-)\n",
      " create mode 100644 data/processed/.gitkeep\n",
      " create mode 100644 data/raw/.gitkeep\n",
      " create mode 100644 notebooks/.gitkeep\n",
      " create mode 100644 src/data/.gitkeep\n",
      " create mode 100644 src/models/.gitkeep\n",
      " create mode 100644 src/visualization/.gitkeep\n",
      "\u001b[33m2a7a33d\u001b[m\u001b[33m (\u001b[m\u001b[1;36mHEAD\u001b[m\u001b[33m -> \u001b[m\u001b[1;32mfeature/estructura-proyecto\u001b[m\u001b[33m)\u001b[m Añadir estructura básica de directorios\n",
      "\u001b[33m36d0a4f\u001b[m\u001b[33m (\u001b[m\u001b[1;32mmain\u001b[m\u001b[33m)\u001b[m Primer commit: Añadir README\n"
     ]
    }
   ],
   "source": [
    "# Crear archivos .gitkeep para mantener directorios vacíos en Git\n",
    "!cd /workspaces/MLa/sesion-02/mi_proyecto_ml && touch data/raw/.gitkeep data/processed/.gitkeep notebooks/.gitkeep\n",
    "!cd /workspaces/MLa/sesion-02/mi_proyecto_ml && touch src/data/.gitkeep src/models/.gitkeep src/visualization/.gitkeep\n",
    "\n",
    "# Añadir todos los cambios y hacer commit\n",
    "!cd /workspaces/MLa/sesion-02/mi_proyecto_ml && git add .\n",
    "!cd /workspaces/MLa/sesion-02/mi_proyecto_ml && git commit -m \"Añadir estructura básica de directorios\"\n",
    "!cd /workspaces/MLa/sesion-02/mi_proyecto_ml && git log --oneline"
   ]
  },
  {
   "cell_type": "markdown",
   "metadata": {},
   "source": [
    "## 2.4 Fusionar Ramas\n",
    "\n",
    "Cuando hayas completado el trabajo en una rama, puedes fusionarla con la rama principal."
   ]
  },
  {
   "cell_type": "code",
   "execution_count": 9,
   "metadata": {},
   "outputs": [
    {
     "name": "stdout",
     "output_type": "stream",
     "text": [
      "Switched to branch 'main'\n",
      "Updating 36d0a4f..2a7a33d\n",
      "Fast-forward\n",
      " data/processed/.gitkeep    | 0\n",
      " data/raw/.gitkeep          | 0\n",
      " notebooks/.gitkeep         | 0\n",
      " src/data/.gitkeep          | 0\n",
      " src/models/.gitkeep        | 0\n",
      " src/visualization/.gitkeep | 0\n",
      " 6 files changed, 0 insertions(+), 0 deletions(-)\n",
      " create mode 100644 data/processed/.gitkeep\n",
      " create mode 100644 data/raw/.gitkeep\n",
      " create mode 100644 notebooks/.gitkeep\n",
      " create mode 100644 src/data/.gitkeep\n",
      " create mode 100644 src/models/.gitkeep\n",
      " create mode 100644 src/visualization/.gitkeep\n",
      ".\n",
      "./.git\n",
      "./.git/hooks\n",
      "./.git/info\n",
      "./.git/logs\n",
      "./.git/logs/refs\n",
      "./.git/logs/refs/heads\n",
      "./.git/logs/refs/heads/feature\n",
      "./.git/objects\n",
      "./.git/objects/16\n",
      "./.git/objects/2a\n",
      "./.git/objects/33\n",
      "./.git/objects/36\n",
      "./.git/objects/4e\n",
      "./.git/objects/63\n",
      "./.git/objects/a6\n",
      "./.git/objects/d5\n",
      "./.git/objects/e6\n",
      "./.git/objects/info\n",
      "./.git/objects/pack\n",
      "./.git/refs\n",
      "./.git/refs/heads\n",
      "./.git/refs/heads/feature\n",
      "./.git/refs/tags\n",
      "./data\n",
      "./data/processed\n",
      "./data/raw\n",
      "./notebooks\n",
      "./src\n",
      "./src/data\n",
      "./src/models\n",
      "./src/visualization\n"
     ]
    }
   ],
   "source": [
    "# Volver a la rama principal\n",
    "!cd /workspaces/MLa/sesion-02/mi_proyecto_ml && git checkout main\n",
    "\n",
    "# Fusionar la rama feature/estructura-proyecto\n",
    "!cd /workspaces/MLa/sesion-02/mi_proyecto_ml && git merge feature/estructura-proyecto\n",
    "\n",
    "# Verificar que la fusión fue exitosa\n",
    "!cd /workspaces/MLa/sesion-02/mi_proyecto_ml && find . -type d | sort"
   ]
  },
  {
   "cell_type": "markdown",
   "metadata": {},
   "source": [
    "# Parte 3: Estructura de un Proyecto ML\n",
    "\n",
    "Una buena estructura de proyecto facilita la organización y el mantenimiento del código. Vamos a crear y explicar los componentes clave."
   ]
  },
  {
   "cell_type": "markdown",
   "metadata": {},
   "source": [
    "## 3.1 Creando Archivos para la Gestión de Dependencias"
   ]
  },
  {
   "cell_type": "code",
   "execution_count": 10,
   "metadata": {},
   "outputs": [
    {
     "name": "stdout",
     "output_type": "stream",
     "text": [
      "[main 1d9ac6f] Añadir requirements.txt para gestión de dependencias\n",
      " 1 file changed, 17 insertions(+)\n",
      " create mode 100644 requirements.txt\n",
      "\u001b[33m1d9ac6f\u001b[m\u001b[33m (\u001b[m\u001b[1;36mHEAD\u001b[m\u001b[33m -> \u001b[m\u001b[1;32mmain\u001b[m\u001b[33m)\u001b[m Añadir requirements.txt para gestión de dependencias\n",
      "\u001b[33m2a7a33d\u001b[m\u001b[33m (\u001b[m\u001b[1;32mfeature/estructura-proyecto\u001b[m\u001b[33m)\u001b[m Añadir estructura básica de directorios\n",
      "\u001b[33m36d0a4f\u001b[m Primer commit: Añadir README\n"
     ]
    }
   ],
   "source": [
    "# Crear requirements.txt\n",
    "requirements = \"\"\"\n",
    "# Análisis de datos\n",
    "numpy==1.23.5\n",
    "pandas==1.5.2\n",
    "scipy==1.9.3\n",
    "\n",
    "# Visualización\n",
    "matplotlib==3.6.2\n",
    "seaborn==0.12.1\n",
    "\n",
    "# Machine Learning\n",
    "scikit-learn==1.1.3\n",
    "statsmodels==0.13.5\n",
    "\n",
    "# Procesamiento específico para petróleo (opcional)\n",
    "lasio==0.30\n",
    "welly==0.5.5\n",
    "\"\"\"\n",
    "\n",
    "with open(\"/workspaces/MLa/sesion-02/mi_proyecto_ml/requirements.txt\", \"w\") as f:\n",
    "    f.write(requirements)\n",
    "\n",
    "# Añadir y hacer commit\n",
    "!cd /workspaces/MLa/sesion-02/mi_proyecto_ml && git add requirements.txt\n",
    "!cd /workspaces/MLa/sesion-02/mi_proyecto_ml && git commit -m \"Añadir requirements.txt para gestión de dependencias\"\n",
    "!cd /workspaces/MLa/sesion-02/mi_proyecto_ml && git log --oneline -n 3"
   ]
  },
  {
   "cell_type": "code",
   "execution_count": 11,
   "metadata": {},
   "outputs": [
    {
     "name": "stdout",
     "output_type": "stream",
     "text": [
      "[main 7560b91] Añadir archivo .gitignore\n",
      " 1 file changed, 47 insertions(+)\n",
      " create mode 100644 .gitignore\n"
     ]
    }
   ],
   "source": [
    "# Crear archivo .gitignore\n",
    "gitignore = \"\"\"\n",
    "# Archivos de Python\n",
    "__pycache__/\n",
    "*.py[cod]\n",
    "*$py.class\n",
    "*.so\n",
    ".Python\n",
    "build/\n",
    "develop-eggs/\n",
    "dist/\n",
    "downloads/\n",
    "eggs/\n",
    ".eggs/\n",
    "lib/\n",
    "lib64/\n",
    "parts/\n",
    "sdist/\n",
    "var/\n",
    "wheels/\n",
    "*.egg-info/\n",
    ".installed.cfg\n",
    "*.egg\n",
    "\n",
    "# Entornos virtuales\n",
    "env/\n",
    "venv/\n",
    "ENV/\n",
    "\n",
    "# Archivos de Jupyter Notebook\n",
    ".ipynb_checkpoints\n",
    "\n",
    "# Datos (normalmente no se versionan, excepto muestras pequeñas)\n",
    "data/raw/*\n",
    "data/processed/*\n",
    "!data/raw/.gitkeep\n",
    "!data/processed/.gitkeep\n",
    "\n",
    "# Modelos entrenados (pueden ser grandes)\n",
    "models/*.pkl\n",
    "models/*.h5\n",
    "\n",
    "# Archivos de configuración local\n",
    ".env\n",
    "\n",
    "# Archivos de sistema\n",
    ".DS_Store\n",
    "Thumbs.db\n",
    "\"\"\"\n",
    "\n",
    "with open(\"/workspaces/MLa/sesion-02/mi_proyecto_ml/.gitignore\", \"w\") as f:\n",
    "    f.write(gitignore)\n",
    "\n",
    "# Añadir y hacer commit\n",
    "!cd /workspaces/MLa/sesion-02/mi_proyecto_ml && git add .gitignore\n",
    "!cd /workspaces/MLa/sesion-02/mi_proyecto_ml && git commit -m \"Añadir archivo .gitignore\""
   ]
  },
  {
   "cell_type": "markdown",
   "metadata": {},
   "source": [
    "# Parte 4: Ejercicio Final - Versionando un Notebook\n",
    "\n",
    "En este ejercicio final, practicarás la creación y versionado de un notebook de análisis de datos con Git.\n",
    "\n",
    "## Objetivos del ejercicio:\n",
    "1. Crear un notebook de análisis exploratorio para datos petroleros\n",
    "2. Utilizar Git para versionar el desarrollo incremental del notebook\n",
    "3. Practicar el trabajo con ramas para implementar nuevas funcionalidades"
   ]
  },
  {
   "cell_type": "markdown",
   "metadata": {},
   "source": [
    "## Instrucciones:\n",
    "\n",
    "1. **Crear una nueva rama para el notebook**\n",
    "   - Crea una rama llamada `feature/analisis-exploratorio` en tu proyecto\n",
    "   - Cambia a esa nueva rama\n",
    "\n",
    "2. **Crear un notebook básico (Commit 1)**\n",
    "   - Crea un archivo `notebooks/analisis_exploratorio.ipynb`\n",
    "   - Añade una celda markdown con título e introducción\n",
    "   - Añade una celda de código con importaciones básicas (pandas, numpy, matplotlib, seaborn)\n",
    "   - Añade el notebook al staging y haz tu primer commit con mensaje descriptivo\n",
    "\n",
    "3. **Añadir carga y exploración de datos (Commit 2)**\n",
    "   - Añade celdas para cargar y explorar un conjunto de datos (puedes crear datos de ejemplo)\n",
    "   - Incluye estadísticas descriptivas básicas\n",
    "   - Haz commit de estos cambios\n",
    "\n",
    "4. **Añadir visualizaciones y conclusiones (Commit 3)**\n",
    "   - Añade al menos dos visualizaciones relevantes para los datos\n",
    "   - Incluye una sección de conclusiones con tus hallazgos\n",
    "   - Haz commit de estos cambios\n",
    "\n",
    "5. **Fusionar con la rama principal**\n",
    "   - Vuelve a la rama principal\n",
    "   - Fusiona la rama feature con main\n",
    "   - Revisa el historial de commits para verificar el proceso"
   ]
  },
  {
   "cell_type": "markdown",
   "metadata": {},
   "source": [
    "## Comandos útiles para el ejercicio\n",
    "\n",
    "Para tu comodidad, aquí están los comandos que necesitarás en formato copiable:\n",
    "\n",
    "```\n",
    "# Crear y cambiar a una nueva rama\n",
    "cd /workspaces/MLa/sesion-02/mi_proyecto_ml\n",
    "git checkout -b feature/analisis-exploratorio\n",
    "\n",
    "# Verificar en qué rama estás\n",
    "git branch\n",
    "\n",
    "# Añadir archivos al staging\n",
    "git add notebooks/analisis_exploratorio.ipynb\n",
    "\n",
    "# Hacer commit\n",
    "git commit -m \"Añadir notebook inicial de análisis exploratorio\"\n",
    "\n",
    "# Para los siguientes commits (cambia el mensaje según corresponda)\n",
    "git add notebooks/analisis_exploratorio.ipynb\n",
    "git commit -m \"Actualizar notebook con carga de datos y análisis inicial\"\n",
    "\n",
    "git add notebooks/analisis_exploratorio.ipynb\n",
    "git commit -m \"Añadir visualizaciones y conclusiones al análisis\"\n",
    "\n",
    "# Volver a la rama principal\n",
    "git checkout main\n",
    "\n",
    "# Fusionar cambios\n",
    "git merge feature/analisis-exploratorio\n",
    "\n",
    "# Ver historial de commits\n",
    "git log --oneline\n",
    "```"
   ]
  },
  {
   "cell_type": "markdown",
   "metadata": {},
   "source": [
    "# Ejercicio Adicional: Prácticas Avanzadas\n",
    "\n",
    "Si completaste el ejercicio anterior, puedes intentar estas prácticas avanzadas:\n",
    "\n",
    "1. **Crear una rama para visualizaciones avanzadas**\n",
    "   - Crea una nueva rama `feature/visualizaciones-avanzadas`\n",
    "   - Añade al notebook visualizaciones adicionales como:\n",
    "     * Histograma de distribución de producción\n",
    "     * Gráfico de barras con producción promedio por pozo\n",
    "     * Heatmap de correlación entre variables\n",
    "   - Haz commit y fusiona con la rama principal\n",
    "\n",
    "2. **Simular colaboración**\n",
    "   - Crea una rama `feature/analisis-estadistico`\n",
    "   - Añade análisis estadísticos más avanzados (regresión, correlaciones)\n",
    "   - Fusiona esta rama con main\n",
    "   \n",
    "3. **Resolver un conflicto simple**\n",
    "   - Crea dos ramas que modifiquen la misma parte del notebook\n",
    "   - Intenta fusionarlas y resuelve el conflicto que se genera"
   ]
  },
  {
   "cell_type": "code",
   "execution_count": 12,
   "metadata": {},
   "outputs": [
    {
     "name": "stdout",
     "output_type": "stream",
     "text": [
      "\u001b[33m7560b91\u001b[m\u001b[33m (\u001b[m\u001b[1;36mHEAD\u001b[m\u001b[33m -> \u001b[m\u001b[1;32mmain\u001b[m\u001b[33m)\u001b[m Añadir archivo .gitignore\n",
      "\u001b[33m1d9ac6f\u001b[m Añadir requirements.txt para gestión de dependencias\n",
      "\u001b[33m2a7a33d\u001b[m\u001b[33m (\u001b[m\u001b[1;32mfeature/estructura-proyecto\u001b[m\u001b[33m)\u001b[m Añadir estructura básica de directorios\n",
      "\u001b[33m36d0a4f\u001b[m Primer commit: Añadir README\n",
      "Already on 'main'\n",
      "merge: feature/analisis-exploratorio - not something we can merge\n",
      "\u001b[33m7560b91\u001b[m\u001b[33m (\u001b[m\u001b[1;36mHEAD\u001b[m\u001b[33m -> \u001b[m\u001b[1;32mmain\u001b[m\u001b[33m)\u001b[m Añadir archivo .gitignore\n",
      "\u001b[33m1d9ac6f\u001b[m Añadir requirements.txt para gestión de dependencias\n",
      "\u001b[33m2a7a33d\u001b[m\u001b[33m (\u001b[m\u001b[1;32mfeature/estructura-proyecto\u001b[m\u001b[33m)\u001b[m Añadir estructura básica de directorios\n",
      "\u001b[33m36d0a4f\u001b[m Primer commit: Añadir README\n"
     ]
    }
   ],
   "source": [
    "# Paso 8: Revisar el historial de commits para ver el progreso del notebook\n",
    "!cd /workspaces/MLa/sesion-02/mi_proyecto_ml && git log --oneline\n",
    "\n",
    "# Paso 9: Fusionar los cambios con la rama principal\n",
    "!cd /workspaces/MLa/sesion-02/mi_proyecto_ml && git checkout main\n",
    "!cd /workspaces/MLa/sesion-02/mi_proyecto_ml && git merge feature/analisis-exploratorio\n",
    "!cd /workspaces/MLa/sesion-02/mi_proyecto_ml && git log --oneline -n 5"
   ]
  },
  {
   "cell_type": "code",
   "metadata": {},
   "outputs": [],
   "source": "# Ejercicio para el estudiante:\n\n# Para practicar por tu cuenta, hemos creado un archivo de plantilla en:\n# /workspaces/MLa/sesion-02/mi_proyecto_ml/notebooks/plantilla_analisis.ipynb\n\n# Sigue estos pasos:\n# 1. Crea una rama para tu análisis:\n#    git checkout -b feature/mi-analisis\n#\n# 2. Copia la plantilla a un nuevo archivo:\n#    cp /workspaces/MLa/sesion-02/mi_proyecto_ml/notebooks/plantilla_analisis.ipynb \\\n#       /workspaces/MLa/sesion-02/mi_proyecto_ml/notebooks/analisis_exploratorio.ipynb\n#\n# 3. Modifica el archivo añadiendo celdas con visualizaciones como:\n#    - Un histograma de la distribución de alguna variable\n#    - Un gráfico de barras para categorías\n#    - Un heatmap de correlación entre variables\n#\n# 4. Haz commit de tus cambios y fusiona con main\n\n# Puedes usar el código de las celdas anteriores como ejemplo"
  },
  {
   "cell_type": "markdown",
   "metadata": {},
   "source": [
    "# Resumen\n",
    "\n",
    "En este laboratorio has aprendido:\n",
    "\n",
    "1. **Verificar y configurar** un entorno Python para proyectos de ML\n",
    "2. **Utilizar Git** para control de versiones\n",
    "   - Inicializar un repositorio\n",
    "   - Crear y fusionar ramas\n",
    "   - Registrar cambios con commits\n",
    "3. **Estructurar** un proyecto de ML siguiendo buenas prácticas\n",
    "4. **Versionar notebooks de Jupyter** para análisis de datos\n",
    "\n",
    "Estas habilidades son fundamentales para desarrollar proyectos de ML profesionales, asegurar la reproducibilidad de tus análisis y trabajar eficientemente en equipo."
   ]
  },
  {
   "cell_type": "markdown",
   "metadata": {},
   "source": [
    "# Recursos Adicionales\n",
    "\n",
    "- [Git Documentation](https://git-scm.com/doc)\n",
    "- [GitHub Guides](https://guides.github.com/)\n",
    "- [Cookiecutter Data Science](https://drivendata.github.io/cookiecutter-data-science/) - Plantilla para proyectos de ML\n",
    "- [DVC: Data Version Control](https://dvc.org/) - Para control de versiones de datos y modelos\n",
    "- [nbdime](https://nbdime.readthedocs.io/) - Herramienta para diferencias y fusiones de notebooks de Jupyter"
   ]
  }
 ],
 "metadata": {
  "kernelspec": {
   "display_name": "Python 3",
   "language": "python",
   "name": "python3"
  },
  "language_info": {
   "codemirror_mode": {
    "name": "ipython",
    "version": 3
   },
   "file_extension": ".py",
   "mimetype": "text/x-python",
   "name": "python",
   "nbconvert_exporter": "python",
   "pygments_lexer": "ipython3",
   "version": "3.12.1"
  }
 },
 "nbformat": 4,
 "nbformat_minor": 4
}